{
 "cells": [
  {
   "cell_type": "code",
   "execution_count": 13,
   "metadata": {},
   "outputs": [],
   "source": [
    "import pandas as pd\n",
    "import numpy as np\n",
    "import os\n",
    "from sklearn import preprocessing\n",
    "from sklearn.decomposition import PCA\n",
    "from sklearn.decomposition import SparsePCA as SPCA\n",
    "import numpy.matlib\n",
    "import matplotlib.pyplot as plt\n",
    "from mpl_toolkits.mplot3d import Axes3D\n",
    "from sklearn.cross_validation import train_test_split"
   ]
  },
  {
   "cell_type": "code",
   "execution_count": 14,
   "metadata": {},
   "outputs": [
    {
     "name": "stdout",
     "output_type": "stream",
     "text": [
      "['Unnamed: 0' 'BidsPortfolioManager' 'BidsApi' 'BidsManual'\n",
      " 'NewCreditCustomer' 'ApplicationSignedHour' 'ApplicationSignedWeekday'\n",
      " 'VerificationType' 'LanguageCode' 'Age' 'Gender' 'Country'\n",
      " 'AppliedAmount' 'Amount' 'Interest' 'LoanDuration' 'MonthlyPayment'\n",
      " 'UseOfLoan' 'Education' 'MaritalStatus' 'NrOfDependants'\n",
      " 'EmploymentStatus' 'OccupationArea' 'HomeOwnershipType'\n",
      " 'IncomeFromPrincipalEmployer' 'IncomeFromPension'\n",
      " 'IncomeFromFamilyAllowance' 'IncomeFromSocialWelfare'\n",
      " 'IncomeFromLeavePay' 'IncomeFromChildSupport' 'IncomeOther' 'IncomeTotal'\n",
      " 'ExistingLiabilities' 'LiabilitiesTotal' 'RefinanceLiabilities'\n",
      " 'DebtToIncome' 'FreeCash' 'MonthlyPaymentDay'\n",
      " 'ActiveScheduleFirstPaymentReached' 'PlannedPrincipalTillDate'\n",
      " 'PlannedInterestTillDate' 'ExpectedLoss' 'LossGivenDefault'\n",
      " 'ExpectedReturn' 'ProbabilityOfDefault' 'ModelVersion' 'Status'\n",
      " 'Restructured' 'PrincipalPaymentsMade' 'InterestAndPenaltyPaymentsMade'\n",
      " 'PrincipalWriteOffs' 'InterestAndPenaltyWriteOffs' 'PrincipalBalance'\n",
      " 'InterestAndPenaltyBalance' 'NoOfPreviousLoansBeforeLoan'\n",
      " 'AmountOfPreviousLoansBeforeLoan' 'PreviousRepaymentsBeforeLoan'\n",
      " 'PreviousEarlyRepaymentsBefoleLoan'\n",
      " 'PreviousEarlyRepaymentsCountBeforeLoan' 'NextPaymentNr'\n",
      " 'NrOfScheduledPayments' 'PrincipalDebtServicingCost'\n",
      " 'InterestAndPenaltyDebtServicingCost' 'LoanstartPeriod' 'MaturityDiff']\n",
      "(65L,)\n"
     ]
    }
   ],
   "source": [
    "file_path = r'E:\\Advanced Computational Finance\\project\\Project2\\file_.csv'\n",
    "file_ = pd.read_csv(file_path, sep = ',')\n",
    "#file_ = file_.dropna(axis = 0, how = 'any')\n",
    "print file_.columns.values\n",
    "print file_.columns.values.shape"
   ]
  },
  {
   "cell_type": "code",
   "execution_count": 15,
   "metadata": {},
   "outputs": [],
   "source": [
    "# dropped_data = file_.dropna(axis = 0, how = 'any')\n",
    "# dropped_data = dropped_data.\n",
    "# os.chdir(r'E:\\Advanced Computational Finance\\project\\Project2')\n",
    "# dropped_data.to_csv('dropped_data.csv')"
   ]
  },
  {
   "cell_type": "markdown",
   "metadata": {},
   "source": [
    "# Feature Selection"
   ]
  },
  {
   "cell_type": "code",
   "execution_count": 16,
   "metadata": {
    "scrolled": true
   },
   "outputs": [
    {
     "name": "stdout",
     "output_type": "stream",
     "text": [
      "features' column name:\n",
      "['Unnamed: 0' 'BidsPortfolioManager' 'BidsApi' 'BidsManual'\n",
      " 'NewCreditCustomer' 'ApplicationSignedHour' 'ApplicationSignedWeekday'\n",
      " 'VerificationType' 'LanguageCode' 'Age' 'Gender' 'Country'\n",
      " 'AppliedAmount' 'Amount' 'Interest' 'LoanDuration' 'MonthlyPayment'\n",
      " 'UseOfLoan' 'Education' 'MaritalStatus' 'NrOfDependants'\n",
      " 'EmploymentStatus' 'OccupationArea' 'HomeOwnershipType'\n",
      " 'IncomeFromPrincipalEmployer' 'IncomeFromPension'\n",
      " 'IncomeFromFamilyAllowance' 'IncomeFromSocialWelfare'\n",
      " 'IncomeFromLeavePay' 'IncomeFromChildSupport' 'IncomeOther' 'IncomeTotal'\n",
      " 'ExistingLiabilities' 'LiabilitiesTotal' 'RefinanceLiabilities'\n",
      " 'DebtToIncome' 'FreeCash' 'MonthlyPaymentDay'\n",
      " 'ActiveScheduleFirstPaymentReached' 'PlannedPrincipalTillDate'\n",
      " 'PlannedInterestTillDate' 'ExpectedLoss' 'LossGivenDefault'\n",
      " 'ExpectedReturn' 'ProbabilityOfDefault' 'ModelVersion' 'Restructured'\n",
      " 'PrincipalPaymentsMade' 'InterestAndPenaltyPaymentsMade'\n",
      " 'PrincipalWriteOffs' 'InterestAndPenaltyWriteOffs' 'PrincipalBalance'\n",
      " 'InterestAndPenaltyBalance' 'NoOfPreviousLoansBeforeLoan'\n",
      " 'AmountOfPreviousLoansBeforeLoan' 'PreviousRepaymentsBeforeLoan'\n",
      " 'PreviousEarlyRepaymentsBefoleLoan'\n",
      " 'PreviousEarlyRepaymentsCountBeforeLoan' 'NextPaymentNr'\n",
      " 'NrOfScheduledPayments' 'PrincipalDebtServicingCost'\n",
      " 'InterestAndPenaltyDebtServicingCost' 'LoanstartPeriod' 'MaturityDiff']\n",
      "(64L,)\n"
     ]
    }
   ],
   "source": [
    "\n",
    "target = dropped_data.loc[:, 'Status']\n",
    "dropped_data_1 = dropped_data\n",
    "feature = dropped_data_1.drop('Status', axis = 1)\n",
    "#print target\n",
    "print 'features\\' column name:\\n'+str(feature.columns.values)+'\\n'+str(feature.columns.values.shape)\n"
   ]
  },
  {
   "cell_type": "code",
   "execution_count": null,
   "metadata": {},
   "outputs": [],
   "source": [
    "data_scaled = preprocessing.scale(dropped_data)\n",
    "target = data_scaled.loc[:, 'Status']\n",
    "data_scaled = data_scaled\n",
    "feature = data_scaled.drop('Status', axis = 1)"
   ]
  },
  {
   "cell_type": "code",
   "execution_count": null,
   "metadata": {},
   "outputs": [],
   "source": [
    "import matplotlib.pyplot as plt\n",
    "from sklearn.svm import SVC\n",
    "from sklearn.model_selection import StratifiedKFold\n",
    "from sklearn.feature_selection import RFECV\n",
    "from sklearn.datasets import make_classification\n",
    "\n",
    "# Build a classification task using 3 informative features\n",
    "X, y = feature, target\n",
    "\n",
    "# Create the RFE object and compute a cross-validated score.\n",
    "svc = SVC(kernel=\"linear\")\n",
    "# The \"accuracy\" scoring is proportional to the number of correct\n",
    "# classifications\n",
    "rfecv = RFECV(estimator=svc, step=1, cv=StratifiedKFold(2),\n",
    "              scoring='accuracy')\n",
    "rfecv.fit(X, y)\n",
    "\n",
    "print(\"Optimal number of features : %d\" % rfecv.n_features_)\n",
    "print(\"Ranking of features : %s\" % rfecv.ranking_)\n",
    "\n",
    "# Plot number of features VS. cross-validation scores\n",
    "plt.figure()\n",
    "plt.xlabel(\"Number of features selected\")\n",
    "plt.ylabel(\"Cross validation score (nb of correct classifications)\")\n",
    "plt.plot(range(1, len(rfecv.grid_scores_) + 1), rfecv.grid_scores_)\n",
    "plt.show()"
   ]
  },
  {
   "cell_type": "code",
   "execution_count": 19,
   "metadata": {},
   "outputs": [
    {
     "name": "stdout",
     "output_type": "stream",
     "text": [
      "N_features 43\n",
      "Support is [False False False False  True  True  True  True  True  True False False\n",
      " False  True  True  True  True  True  True  True  True  True  True  True\n",
      " False False False  True  True  True False  True  True  True  True  True\n",
      "  True False  True  True False  True  True  True  True  True  True False\n",
      " False False False False  True  True False False False  True  True  True\n",
      "  True  True  True  True]\n",
      "Ranking [19  6 14  4  1  1  1  1  1  1  2 15 10  1  1  1  1  1  1  1  1  1  1  1\n",
      " 12 13  3  1  1  1 11  1  1  1  1  1  1  5  1  1 17  1  1  1  1  1  1 16\n",
      "  7  9 21  8  1  1 20 22 18  1  1  1  1  1  1  1]\n",
      "Grid Scores [0.54650734 0.662655   0.67101756 0.67027951 0.671411   0.67131264\n",
      " 0.67150944 0.95011391 0.95035989 0.94972042 0.94932686 0.95031087\n",
      " 0.95016326 0.95021246 0.95070446 0.95065526 0.95119646 0.95134406\n",
      " 0.95095049 0.95109807 0.9516884  0.95163921 0.95159001 0.95188517\n",
      " 0.9521803  0.9521803  0.9514424  0.95129482 0.94637463 0.94455423\n",
      " 0.9440131  0.94632551 0.94529223 0.94553824 0.95193436 0.95011419\n",
      " 0.95183603 0.9513932  0.95218041 0.95198362 0.95119652 0.94986801\n",
      " 0.95227887 0.94913007 0.95173769 0.95139328 0.94986823 0.94991766\n",
      " 0.95006514 0.94972081 0.95016363 0.94853998 0.95040956 0.94962246\n",
      " 0.94849078 0.94996689 0.94888452 0.94868778 0.94652288 0.9434237\n",
      " 0.94371883 0.94376807 0.94283337 0.94268573]\n"
     ]
    }
   ],
   "source": [
    "selector = RFECV(estimator=estimator, cv=3)\n",
    "selector.fit(x, y)\n",
    "print(\"N_features %s\" % selector.n_features_)\n",
    "print(\"Support is %s\" % selector.support_)\n",
    "print(\"Ranking %s\" % selector.ranking_)\n",
    "print(\"Grid Scores %s\" % selector.grid_scores_)"
   ]
  },
  {
   "cell_type": "code",
   "execution_count": null,
   "metadata": {},
   "outputs": [],
   "source": [
    "# Plot number of features VS. cross-validation scores\n",
    "plt.figure()\n",
    "plt.xlabel(\"Number of features selected\")\n",
    "plt.ylabel(\"Cross validation score (nb of correct classifications)\")\n",
    "plt.plot(range(1, len(rfecv.grid_scores_) + 1), rfecv.grid_scores_)\n",
    "plt.show()"
   ]
  }
 ],
 "metadata": {
  "kernelspec": {
   "display_name": "Python 2",
   "language": "python",
   "name": "python2"
  },
  "language_info": {
   "codemirror_mode": {
    "name": "ipython",
    "version": 2
   },
   "file_extension": ".py",
   "mimetype": "text/x-python",
   "name": "python",
   "nbconvert_exporter": "python",
   "pygments_lexer": "ipython2",
   "version": "2.7.14"
  }
 },
 "nbformat": 4,
 "nbformat_minor": 2
}
