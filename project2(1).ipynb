{
 "cells": [
  {
   "cell_type": "code",
   "execution_count": 1,
   "metadata": {},
   "outputs": [
    {
     "name": "stderr",
     "output_type": "stream",
     "text": [
      "C:\\Users\\beiya\\Anaconda2\\lib\\site-packages\\sklearn\\cross_validation.py:41: DeprecationWarning: This module was deprecated in version 0.18 in favor of the model_selection module into which all the refactored classes and functions are moved. Also note that the interface of the new CV iterators are different from that of this module. This module will be removed in 0.20.\n",
      "  \"This module will be removed in 0.20.\", DeprecationWarning)\n"
     ]
    }
   ],
   "source": [
    "import pandas as pd\n",
    "import numpy as np\n",
    "import os\n",
    "from sklearn import preprocessing\n",
    "from sklearn.decomposition import PCA\n",
    "from sklearn.decomposition import SparsePCA as SPCA\n",
    "import numpy.matlib\n",
    "import matplotlib.pyplot as plt\n",
    "from mpl_toolkits.mplot3d import Axes3D\n",
    "from sklearn.cross_validation import train_test_split"
   ]
  },
  {
   "cell_type": "code",
   "execution_count": 21,
   "metadata": {
    "scrolled": true
   },
   "outputs": [
    {
     "name": "stderr",
     "output_type": "stream",
     "text": [
      "C:\\Users\\beiya\\Anaconda2\\lib\\site-packages\\IPython\\core\\interactiveshell.py:2718: DtypeWarning: Columns (26) have mixed types. Specify dtype option on import or set low_memory=False.\n",
      "  interactivity=interactivity, compiler=compiler, result=result)\n"
     ]
    },
    {
     "name": "stdout",
     "output_type": "stream",
     "text": [
      "['v' 'BidsPortfolioManager' 'BidsApi' 'BidsManual' 'NewCreditCustomer'\n",
      " 'LoanApplicationStartedDate' 'LoanDate' 'FirstPaymentDate'\n",
      " 'LastPaymentOn' 'MaturityDate_Original' 'MaturityDate_Last'\n",
      " 'ApplicationSignedHour' 'ApplicationSignedWeekday' 'VerificationType'\n",
      " 'LanguageCode' 'Age' 'Gender' 'Country' 'AppliedAmount' 'Amount'\n",
      " 'Interest' 'LoanDuration' 'MonthlyPayment' 'UseOfLoan' 'Education'\n",
      " 'MaritalStatus' 'NrOfDependants' 'EmploymentStatus'\n",
      " 'EmploymentDurationCurrentEmployer' 'EmploymentPosition' 'WorkExperience'\n",
      " 'OccupationArea' 'HomeOwnershipType' 'IncomeFromPrincipalEmployer'\n",
      " 'IncomeFromPension' 'IncomeFromFamilyAllowance' 'IncomeFromSocialWelfare'\n",
      " 'IncomeFromLeavePay' 'IncomeFromChildSupport' 'IncomeOther' 'IncomeTotal'\n",
      " 'ExistingLiabilities' 'LiabilitiesTotal' 'RefinanceLiabilities'\n",
      " 'DebtToIncome' 'FreeCash' 'MonthlyPaymentDay'\n",
      " 'ActiveScheduleFirstPaymentReached' 'PlannedPrincipalTillDate'\n",
      " 'PlannedInterestTillDate' 'ExpectedLoss' 'LossGivenDefault'\n",
      " 'ExpectedReturn' 'ProbabilityOfDefault' 'ModelVersion' 'Rating'\n",
      " 'Rating_V2' 'Restructured' 'PrincipalPaymentsMade'\n",
      " 'InterestAndPenaltyPaymentsMade' 'PrincipalWriteOffs'\n",
      " 'InterestAndPenaltyWriteOffs' 'PrincipalBalance'\n",
      " 'InterestAndPenaltyBalance' 'NoOfPreviousLoansBeforeLoan'\n",
      " 'AmountOfPreviousLoansBeforeLoan' 'PreviousRepaymentsBeforeLoan'\n",
      " 'PreviousEarlyRepaymentsBefoleLoan'\n",
      " 'PreviousEarlyRepaymentsCountBeforeLoan' 'NextPaymentNr'\n",
      " 'NrOfScheduledPayments' 'PrincipalDebtServicingCost'\n",
      " 'InterestAndPenaltyDebtServicingCost']\n",
      "(73L,)\n"
     ]
    }
   ],
   "source": [
    "file_path = r'E:\\Advanced Computational Finance\\project\\Project2\\LoanDataCleanedVersion.csv'\n",
    "file_ = pd.read_csv(file_path, sep = ',')\n",
    "file_ = file_.dropna(axis = 0, how = 'any')\n",
    "print file_.columns.values\n",
    "print file_.columns.values.shape"
   ]
  },
  {
   "cell_type": "code",
   "execution_count": 22,
   "metadata": {},
   "outputs": [
    {
     "data": {
      "text/plain": [
       "(13113, 73)"
      ]
     },
     "execution_count": 22,
     "metadata": {},
     "output_type": "execute_result"
    }
   ],
   "source": [
    "file_.shape"
   ]
  },
  {
   "cell_type": "code",
   "execution_count": 23,
   "metadata": {
    "collapsed": true,
    "scrolled": true
   },
   "outputs": [],
   "source": [
    "#extract columns that need to be processed\n",
    "NewCreditCustomer = file_.loc[:, 'NewCreditCustomer']\n",
    "Country = file_.loc[:,'Country']\n",
    "ActiveScheduleFirstPaymentReached = file_.loc[:,'ActiveScheduleFirstPaymentReached']\n",
    "Restructured = file_.loc[:, 'Restructured']"
   ]
  },
  {
   "cell_type": "code",
   "execution_count": 24,
   "metadata": {
    "collapsed": true
   },
   "outputs": [],
   "source": [
    "#encode label\n",
    "le1 = preprocessing.LabelEncoder()\n",
    "le2 = preprocessing.LabelEncoder()\n",
    "le6 = preprocessing.LabelEncoder()\n",
    "le10 = preprocessing.LabelEncoder()\n",
    "\n",
    "NewCreditCustomer = le1.fit_transform(NewCreditCustomer)\n",
    "Country = le2.fit_transform(Country)\n",
    "ActiveScheduleFirstPaymentReached = le6.fit_transform(ActiveScheduleFirstPaymentReached)\n",
    "Restructured = le10.fit_transform(Restructured)"
   ]
  },
  {
   "cell_type": "code",
   "execution_count": 25,
   "metadata": {},
   "outputs": [
    {
     "name": "stdout",
     "output_type": "stream",
     "text": [
      "NewCreditCustomer\t[False  True]\n",
      "Country\t['EE' 'ES' 'FI']\n",
      "ActiveScheduleFirstPaymentReached\t[False  True]\n",
      "Restructured\t[False  True]\n"
     ]
    }
   ],
   "source": [
    "print 'NewCreditCustomer\\t'+str(le1.classes_)\n",
    "print 'Country\\t'+str(le2.classes_)\n",
    "print 'ActiveScheduleFirstPaymentReached\\t'+str(le6.classes_)\n",
    "print 'Restructured\\t'+str(le10.classes_)"
   ]
  },
  {
   "cell_type": "code",
   "execution_count": 26,
   "metadata": {},
   "outputs": [
    {
     "name": "stdout",
     "output_type": "stream",
     "text": [
      "1\t[False  True]\n",
      "2\t['EE' 'ES' 'FI']\n",
      "6\t[False  True]\n",
      "10\t[False  True]\n"
     ]
    }
   ],
   "source": [
    "print str(1)+'\\t'+str(le1.classes_)\n",
    "print str(2)+'\\t'+str(le2.classes_)\n",
    "#print le3.classes_\n",
    "#print le4.classes_\n",
    "#print le5.classes_\n",
    "print str(6)+'\\t'+str(le6.classes_)\n",
    "#print le7.classes_\n",
    "#print le8.classes_\n",
    "#print str(9)+'\\t'+str(le9.classes_)\n",
    "print str(10)+'\\t'+str(le10.classes_)"
   ]
  },
  {
   "cell_type": "code",
   "execution_count": 27,
   "metadata": {
    "collapsed": true
   },
   "outputs": [],
   "source": [
    "#replace columns with code\n",
    "#file_ = file_.drop(['NewCreditCustomer', 'Country', 'EmploymentDurationCurrentEmployer', 'EmploymentPosition', 'WorkExperience', 'ActiveScheduleFirstPaymentReached', 'Rating', 'Rating_V2', 'Status', 'Restructured'],  axis = 1)\n",
    "file_['NewCreditCustomer'] = NewCreditCustomer\n",
    "file_['Country'] = Country\n",
    "#file_['EmploymentDurationCurrentEmployer'] = EmploymentDurationCurrentEmployer\n",
    "#file_['EmploymentPosition'] = EmploymentPosition\n",
    "#file_['WorkExperience'] = WorkExperience\n",
    "file_['ActiveScheduleFirstPaymentReached'] = ActiveScheduleFirstPaymentReached\n",
    "#file_['Rating'] = Rating\n",
    "#file_['Rating_V2'] = Rating_V2\n",
    "#file_['Status'] = Status\n",
    "file_['Restructured'] = Restructured"
   ]
  },
  {
   "cell_type": "code",
   "execution_count": 29,
   "metadata": {
    "collapsed": true
   },
   "outputs": [],
   "source": [
    "#delete invalid columns\n",
    "file_ = file_.drop(['FirstPaymentDate', 'LastPaymentOn', 'EmploymentDurationCurrentEmployer', 'EmploymentPosition', 'WorkExperience',\n",
    "                   'Rating', 'Rating_V2'], axis = 1)"
   ]
  },
  {
   "cell_type": "code",
   "execution_count": 30,
   "metadata": {},
   "outputs": [
    {
     "data": {
      "text/plain": [
       "(66L,)"
      ]
     },
     "execution_count": 30,
     "metadata": {},
     "output_type": "execute_result"
    }
   ],
   "source": [
    "file_.columns.values.shape"
   ]
  },
  {
   "cell_type": "code",
   "execution_count": 31,
   "metadata": {
    "collapsed": true
   },
   "outputs": [],
   "source": [
    "#calculate duration\n",
    "from datetime import datetime\n",
    "file_['LoanApplicationStartedDate'] = pd.to_datetime(file_ ['LoanApplicationStartedDate'])\n",
    "file_ ['LoanDate'] = pd.to_datetime(file_ ['LoanDate'])\n",
    "file_ ['LoanstartPeriod'] = file_ ['LoanDate']- file_ ['LoanApplicationStartedDate']\n",
    "file_ ['LoanstartPeriod'] = file_ ['LoanstartPeriod']/ np.timedelta64(1, 'D')\n",
    "file_ ['MaturityDate_Original'] = pd.to_datetime(file_ ['MaturityDate_Original'])\n",
    "file_ ['MaturityDate_Last'] = pd.to_datetime(file_ ['MaturityDate_Last'])\n",
    "file_ ['MaturityDiff'] = file_ ['MaturityDate_Original']- file_ ['MaturityDate_Last']\n",
    "file_ ['MaturityDiff'] = file_ ['MaturityDiff']/ np.timedelta64(1, 'D')"
   ]
  },
  {
   "cell_type": "code",
   "execution_count": 32,
   "metadata": {
    "scrolled": true
   },
   "outputs": [
    {
     "data": {
      "text/plain": [
       "(64L,)"
      ]
     },
     "execution_count": 32,
     "metadata": {},
     "output_type": "execute_result"
    }
   ],
   "source": [
    "file_ = file_.drop(['LoanApplicationStartedDate', 'LoanDate', 'MaturityDate_Original', 'MaturityDate_Last'], axis = 1)\n",
    "file_.columns.values.shape"
   ]
  },
  {
   "cell_type": "code",
   "execution_count": 33,
   "metadata": {},
   "outputs": [
    {
     "data": {
      "text/plain": [
       "array(['v', 'BidsPortfolioManager', 'BidsApi', 'BidsManual',\n",
       "       'NewCreditCustomer', 'ApplicationSignedHour',\n",
       "       'ApplicationSignedWeekday', 'VerificationType', 'LanguageCode',\n",
       "       'Age', 'Gender', 'Country', 'AppliedAmount', 'Amount', 'Interest',\n",
       "       'LoanDuration', 'MonthlyPayment', 'UseOfLoan', 'Education',\n",
       "       'MaritalStatus', 'NrOfDependants', 'EmploymentStatus',\n",
       "       'OccupationArea', 'HomeOwnershipType',\n",
       "       'IncomeFromPrincipalEmployer', 'IncomeFromPension',\n",
       "       'IncomeFromFamilyAllowance', 'IncomeFromSocialWelfare',\n",
       "       'IncomeFromLeavePay', 'IncomeFromChildSupport', 'IncomeOther',\n",
       "       'IncomeTotal', 'ExistingLiabilities', 'LiabilitiesTotal',\n",
       "       'RefinanceLiabilities', 'DebtToIncome', 'FreeCash',\n",
       "       'MonthlyPaymentDay', 'ActiveScheduleFirstPaymentReached',\n",
       "       'PlannedPrincipalTillDate', 'PlannedInterestTillDate',\n",
       "       'ExpectedLoss', 'LossGivenDefault', 'ExpectedReturn',\n",
       "       'ProbabilityOfDefault', 'ModelVersion', 'Restructured',\n",
       "       'PrincipalPaymentsMade', 'InterestAndPenaltyPaymentsMade',\n",
       "       'PrincipalWriteOffs', 'InterestAndPenaltyWriteOffs',\n",
       "       'PrincipalBalance', 'InterestAndPenaltyBalance',\n",
       "       'NoOfPreviousLoansBeforeLoan', 'AmountOfPreviousLoansBeforeLoan',\n",
       "       'PreviousRepaymentsBeforeLoan',\n",
       "       'PreviousEarlyRepaymentsBefoleLoan',\n",
       "       'PreviousEarlyRepaymentsCountBeforeLoan', 'NextPaymentNr',\n",
       "       'NrOfScheduledPayments', 'PrincipalDebtServicingCost',\n",
       "       'InterestAndPenaltyDebtServicingCost', 'LoanstartPeriod',\n",
       "       'MaturityDiff'], dtype=object)"
      ]
     },
     "execution_count": 33,
     "metadata": {},
     "output_type": "execute_result"
    }
   ],
   "source": [
    "file_.columns.values"
   ]
  },
  {
   "cell_type": "code",
   "execution_count": 34,
   "metadata": {
    "collapsed": true
   },
   "outputs": [],
   "source": [
    "file_1 = file_"
   ]
  },
  {
   "cell_type": "code",
   "execution_count": 37,
   "metadata": {},
   "outputs": [
    {
     "name": "stdout",
     "output_type": "stream",
     "text": [
      "features' column name:\t['BidsPortfolioManager' 'BidsApi' 'BidsManual' 'NewCreditCustomer'\n",
      " 'ApplicationSignedHour' 'ApplicationSignedWeekday' 'VerificationType'\n",
      " 'LanguageCode' 'Age' 'Gender' 'Country' 'AppliedAmount' 'Amount'\n",
      " 'Interest' 'LoanDuration' 'MonthlyPayment' 'UseOfLoan' 'Education'\n",
      " 'MaritalStatus' 'NrOfDependants' 'EmploymentStatus' 'OccupationArea'\n",
      " 'HomeOwnershipType' 'IncomeFromPrincipalEmployer' 'IncomeFromPension'\n",
      " 'IncomeFromFamilyAllowance' 'IncomeFromSocialWelfare'\n",
      " 'IncomeFromLeavePay' 'IncomeFromChildSupport' 'IncomeOther' 'IncomeTotal'\n",
      " 'ExistingLiabilities' 'LiabilitiesTotal' 'RefinanceLiabilities'\n",
      " 'DebtToIncome' 'FreeCash' 'MonthlyPaymentDay'\n",
      " 'ActiveScheduleFirstPaymentReached' 'PlannedPrincipalTillDate'\n",
      " 'PlannedInterestTillDate' 'ExpectedLoss' 'LossGivenDefault'\n",
      " 'ExpectedReturn' 'ProbabilityOfDefault' 'ModelVersion' 'Restructured'\n",
      " 'PrincipalPaymentsMade' 'InterestAndPenaltyPaymentsMade'\n",
      " 'PrincipalWriteOffs' 'InterestAndPenaltyWriteOffs' 'PrincipalBalance'\n",
      " 'InterestAndPenaltyBalance' 'NoOfPreviousLoansBeforeLoan'\n",
      " 'AmountOfPreviousLoansBeforeLoan' 'PreviousRepaymentsBeforeLoan'\n",
      " 'PreviousEarlyRepaymentsBefoleLoan'\n",
      " 'PreviousEarlyRepaymentsCountBeforeLoan' 'NextPaymentNr'\n",
      " 'NrOfScheduledPayments' 'PrincipalDebtServicingCost'\n",
      " 'InterestAndPenaltyDebtServicingCost' 'LoanstartPeriod' 'MaturityDiff']\n"
     ]
    }
   ],
   "source": [
    "feature = file_1.drop('Status', axis = 1)\n",
    "print 'features\\' column name:\\t'+str(feature.columns.values)"
   ]
  },
  {
   "cell_type": "code",
   "execution_count": 39,
   "metadata": {
    "scrolled": true
   },
   "outputs": [
    {
     "ename": "TypeError",
     "evalue": "Cannot compare types 'ndarray(dtype=int64)' and 'str'",
     "output_type": "error",
     "traceback": [
      "\u001b[1;31m\u001b[0m",
      "\u001b[1;31mTypeError\u001b[0mTraceback (most recent call last)",
      "\u001b[1;32m<ipython-input-39-9059c0378fb1>\u001b[0m in \u001b[0;36m<module>\u001b[1;34m()\u001b[0m\n\u001b[0;32m      1\u001b[0m \u001b[0ms\u001b[0m \u001b[1;33m=\u001b[0m \u001b[1;33m{\u001b[0m\u001b[1;34m\"Repaid\"\u001b[0m\u001b[1;33m:\u001b[0m \u001b[1;36m0\u001b[0m\u001b[1;33m,\u001b[0m\u001b[1;34m\"Current\"\u001b[0m\u001b[1;33m:\u001b[0m \u001b[1;36m0\u001b[0m\u001b[1;33m,\u001b[0m\u001b[1;34m\"Late\"\u001b[0m\u001b[1;33m:\u001b[0m \u001b[1;36m1\u001b[0m\u001b[1;33m}\u001b[0m\u001b[1;33m\u001b[0m\u001b[0m\n\u001b[1;32m----> 2\u001b[1;33m \u001b[0mfile_\u001b[0m\u001b[1;33m.\u001b[0m\u001b[0mreplace\u001b[0m\u001b[1;33m(\u001b[0m\u001b[1;33m{\u001b[0m\u001b[1;34m'v'\u001b[0m\u001b[1;33m:\u001b[0m \u001b[0ms\u001b[0m\u001b[1;33m}\u001b[0m\u001b[1;33m,\u001b[0m \u001b[0minplace\u001b[0m\u001b[1;33m=\u001b[0m \u001b[0mTrue\u001b[0m\u001b[1;33m)\u001b[0m\u001b[1;33m\u001b[0m\u001b[0m\n\u001b[0m\u001b[0;32m      3\u001b[0m \u001b[0mtarget\u001b[0m \u001b[1;33m=\u001b[0m \u001b[0mfile_1\u001b[0m\u001b[1;33m.\u001b[0m\u001b[0mloc\u001b[0m\u001b[1;33m[\u001b[0m\u001b[1;33m:\u001b[0m\u001b[1;33m,\u001b[0m \u001b[1;34m'v'\u001b[0m\u001b[1;33m]\u001b[0m\u001b[1;33m\u001b[0m\u001b[0m\n\u001b[0;32m      4\u001b[0m \u001b[1;32mprint\u001b[0m \u001b[0mtarget\u001b[0m\u001b[1;33m\u001b[0m\u001b[0m\n",
      "\u001b[1;32mC:\\Users\\beiya\\Anaconda2\\lib\\site-packages\\pandas\\core\\generic.pyc\u001b[0m in \u001b[0;36mreplace\u001b[1;34m(self, to_replace, value, inplace, limit, regex, method, axis)\u001b[0m\n\u001b[0;32m   4529\u001b[0m \u001b[1;33m\u001b[0m\u001b[0m\n\u001b[0;32m   4530\u001b[0m             return self.replace(to_replace, value, inplace=inplace,\n\u001b[1;32m-> 4531\u001b[1;33m                                 limit=limit, regex=regex)\n\u001b[0m\u001b[0;32m   4532\u001b[0m         \u001b[1;32melse\u001b[0m\u001b[1;33m:\u001b[0m\u001b[1;33m\u001b[0m\u001b[0m\n\u001b[0;32m   4533\u001b[0m \u001b[1;33m\u001b[0m\u001b[0m\n",
      "\u001b[1;32mC:\\Users\\beiya\\Anaconda2\\lib\\site-packages\\pandas\\core\\generic.pyc\u001b[0m in \u001b[0;36mreplace\u001b[1;34m(self, to_replace, value, inplace, limit, regex, method, axis)\u001b[0m\n\u001b[0;32m   4548\u001b[0m                                                     \u001b[0mvalue\u001b[0m\u001b[1;33m=\u001b[0m\u001b[0mvalue\u001b[0m\u001b[1;33m[\u001b[0m\u001b[0mc\u001b[0m\u001b[1;33m]\u001b[0m\u001b[1;33m,\u001b[0m\u001b[1;33m\u001b[0m\u001b[0m\n\u001b[0;32m   4549\u001b[0m                                                     \u001b[0minplace\u001b[0m\u001b[1;33m=\u001b[0m\u001b[0mFalse\u001b[0m\u001b[1;33m,\u001b[0m\u001b[1;33m\u001b[0m\u001b[0m\n\u001b[1;32m-> 4550\u001b[1;33m                                                     regex=regex)\n\u001b[0m\u001b[0;32m   4551\u001b[0m                     \u001b[1;32mreturn\u001b[0m \u001b[0mNone\u001b[0m \u001b[1;32mif\u001b[0m \u001b[0minplace\u001b[0m \u001b[1;32melse\u001b[0m \u001b[0mres\u001b[0m\u001b[1;33m\u001b[0m\u001b[0m\n\u001b[0;32m   4552\u001b[0m \u001b[1;33m\u001b[0m\u001b[0m\n",
      "\u001b[1;32mC:\\Users\\beiya\\Anaconda2\\lib\\site-packages\\pandas\\core\\generic.pyc\u001b[0m in \u001b[0;36mreplace\u001b[1;34m(self, to_replace, value, inplace, limit, regex, method, axis)\u001b[0m\n\u001b[0;32m   4578\u001b[0m                                                        \u001b[0mdest_list\u001b[0m\u001b[1;33m=\u001b[0m\u001b[0mvalue\u001b[0m\u001b[1;33m,\u001b[0m\u001b[1;33m\u001b[0m\u001b[0m\n\u001b[0;32m   4579\u001b[0m                                                        \u001b[0minplace\u001b[0m\u001b[1;33m=\u001b[0m\u001b[0minplace\u001b[0m\u001b[1;33m,\u001b[0m\u001b[1;33m\u001b[0m\u001b[0m\n\u001b[1;32m-> 4580\u001b[1;33m                                                        regex=regex)\n\u001b[0m\u001b[0;32m   4581\u001b[0m \u001b[1;33m\u001b[0m\u001b[0m\n\u001b[0;32m   4582\u001b[0m                 \u001b[1;32melse\u001b[0m\u001b[1;33m:\u001b[0m  \u001b[1;31m# [NA, ''] -> 0\u001b[0m\u001b[1;33m\u001b[0m\u001b[0m\n",
      "\u001b[1;32mC:\\Users\\beiya\\Anaconda2\\lib\\site-packages\\pandas\\core\\internals.pyc\u001b[0m in \u001b[0;36mreplace_list\u001b[1;34m(self, src_list, dest_list, inplace, regex, mgr)\u001b[0m\n\u001b[0;32m   3485\u001b[0m             \u001b[1;32mreturn\u001b[0m \u001b[0m_maybe_compare\u001b[0m\u001b[1;33m(\u001b[0m\u001b[0mvalues\u001b[0m\u001b[1;33m,\u001b[0m \u001b[0mgetattr\u001b[0m\u001b[1;33m(\u001b[0m\u001b[0ms\u001b[0m\u001b[1;33m,\u001b[0m \u001b[1;34m'asm8'\u001b[0m\u001b[1;33m,\u001b[0m \u001b[0ms\u001b[0m\u001b[1;33m)\u001b[0m\u001b[1;33m,\u001b[0m \u001b[0moperator\u001b[0m\u001b[1;33m.\u001b[0m\u001b[0meq\u001b[0m\u001b[1;33m)\u001b[0m\u001b[1;33m\u001b[0m\u001b[0m\n\u001b[0;32m   3486\u001b[0m \u001b[1;33m\u001b[0m\u001b[0m\n\u001b[1;32m-> 3487\u001b[1;33m         \u001b[0mmasks\u001b[0m \u001b[1;33m=\u001b[0m \u001b[1;33m[\u001b[0m\u001b[0mcomp\u001b[0m\u001b[1;33m(\u001b[0m\u001b[0ms\u001b[0m\u001b[1;33m)\u001b[0m \u001b[1;32mfor\u001b[0m \u001b[0mi\u001b[0m\u001b[1;33m,\u001b[0m \u001b[0ms\u001b[0m \u001b[1;32min\u001b[0m \u001b[0menumerate\u001b[0m\u001b[1;33m(\u001b[0m\u001b[0msrc_list\u001b[0m\u001b[1;33m)\u001b[0m\u001b[1;33m]\u001b[0m\u001b[1;33m\u001b[0m\u001b[0m\n\u001b[0m\u001b[0;32m   3488\u001b[0m \u001b[1;33m\u001b[0m\u001b[0m\n\u001b[0;32m   3489\u001b[0m         \u001b[0mresult_blocks\u001b[0m \u001b[1;33m=\u001b[0m \u001b[1;33m[\u001b[0m\u001b[1;33m]\u001b[0m\u001b[1;33m\u001b[0m\u001b[0m\n",
      "\u001b[1;32mC:\\Users\\beiya\\Anaconda2\\lib\\site-packages\\pandas\\core\\internals.pyc\u001b[0m in \u001b[0;36mcomp\u001b[1;34m(s)\u001b[0m\n\u001b[0;32m   3483\u001b[0m             \u001b[1;32mif\u001b[0m \u001b[0misna\u001b[0m\u001b[1;33m(\u001b[0m\u001b[0ms\u001b[0m\u001b[1;33m)\u001b[0m\u001b[1;33m:\u001b[0m\u001b[1;33m\u001b[0m\u001b[0m\n\u001b[0;32m   3484\u001b[0m                 \u001b[1;32mreturn\u001b[0m \u001b[0misna\u001b[0m\u001b[1;33m(\u001b[0m\u001b[0mvalues\u001b[0m\u001b[1;33m)\u001b[0m\u001b[1;33m\u001b[0m\u001b[0m\n\u001b[1;32m-> 3485\u001b[1;33m             \u001b[1;32mreturn\u001b[0m \u001b[0m_maybe_compare\u001b[0m\u001b[1;33m(\u001b[0m\u001b[0mvalues\u001b[0m\u001b[1;33m,\u001b[0m \u001b[0mgetattr\u001b[0m\u001b[1;33m(\u001b[0m\u001b[0ms\u001b[0m\u001b[1;33m,\u001b[0m \u001b[1;34m'asm8'\u001b[0m\u001b[1;33m,\u001b[0m \u001b[0ms\u001b[0m\u001b[1;33m)\u001b[0m\u001b[1;33m,\u001b[0m \u001b[0moperator\u001b[0m\u001b[1;33m.\u001b[0m\u001b[0meq\u001b[0m\u001b[1;33m)\u001b[0m\u001b[1;33m\u001b[0m\u001b[0m\n\u001b[0m\u001b[0;32m   3486\u001b[0m \u001b[1;33m\u001b[0m\u001b[0m\n\u001b[0;32m   3487\u001b[0m         \u001b[0mmasks\u001b[0m \u001b[1;33m=\u001b[0m \u001b[1;33m[\u001b[0m\u001b[0mcomp\u001b[0m\u001b[1;33m(\u001b[0m\u001b[0ms\u001b[0m\u001b[1;33m)\u001b[0m \u001b[1;32mfor\u001b[0m \u001b[0mi\u001b[0m\u001b[1;33m,\u001b[0m \u001b[0ms\u001b[0m \u001b[1;32min\u001b[0m \u001b[0menumerate\u001b[0m\u001b[1;33m(\u001b[0m\u001b[0msrc_list\u001b[0m\u001b[1;33m)\u001b[0m\u001b[1;33m]\u001b[0m\u001b[1;33m\u001b[0m\u001b[0m\n",
      "\u001b[1;32mC:\\Users\\beiya\\Anaconda2\\lib\\site-packages\\pandas\\core\\internals.pyc\u001b[0m in \u001b[0;36m_maybe_compare\u001b[1;34m(a, b, op)\u001b[0m\n\u001b[0;32m   4945\u001b[0m             \u001b[0mtype_names\u001b[0m\u001b[1;33m[\u001b[0m\u001b[1;36m1\u001b[0m\u001b[1;33m]\u001b[0m \u001b[1;33m=\u001b[0m \u001b[1;34m'ndarray(dtype=%s)'\u001b[0m \u001b[1;33m%\u001b[0m \u001b[0mb\u001b[0m\u001b[1;33m.\u001b[0m\u001b[0mdtype\u001b[0m\u001b[1;33m\u001b[0m\u001b[0m\n\u001b[0;32m   4946\u001b[0m \u001b[1;33m\u001b[0m\u001b[0m\n\u001b[1;32m-> 4947\u001b[1;33m         \u001b[1;32mraise\u001b[0m \u001b[0mTypeError\u001b[0m\u001b[1;33m(\u001b[0m\u001b[1;34m\"Cannot compare types %r and %r\"\u001b[0m \u001b[1;33m%\u001b[0m \u001b[0mtuple\u001b[0m\u001b[1;33m(\u001b[0m\u001b[0mtype_names\u001b[0m\u001b[1;33m)\u001b[0m\u001b[1;33m)\u001b[0m\u001b[1;33m\u001b[0m\u001b[0m\n\u001b[0m\u001b[0;32m   4948\u001b[0m     \u001b[1;32mreturn\u001b[0m \u001b[0mresult\u001b[0m\u001b[1;33m\u001b[0m\u001b[0m\n\u001b[0;32m   4949\u001b[0m \u001b[1;33m\u001b[0m\u001b[0m\n",
      "\u001b[1;31mTypeError\u001b[0m: Cannot compare types 'ndarray(dtype=int64)' and 'str'"
     ]
    }
   ],
   "source": [
    "s = {\"Repaid\": 0,\"Current\": 0,\"Late\": 1}\n",
    "file_.replace({'Status': s}, inplace= True)\n",
    "target = file_1.loc[:, 'Status']\n",
    "print target"
   ]
  },
  {
   "cell_type": "code",
   "execution_count": null,
   "metadata": {
    "collapsed": true
   },
   "outputs": [],
   "source": [
    "os.chdir(r'E:\\Advanced Computational Finance\\project\\Project2')\n",
    "file_.to_csv('file_.csv')"
   ]
  },
  {
   "cell_type": "code",
   "execution_count": null,
   "metadata": {
    "collapsed": true
   },
   "outputs": [],
   "source": []
  }
 ],
 "metadata": {
  "kernelspec": {
   "display_name": "Python 2",
   "language": "python",
   "name": "python2"
  },
  "language_info": {
   "codemirror_mode": {
    "name": "ipython",
    "version": 2
   },
   "file_extension": ".py",
   "mimetype": "text/x-python",
   "name": "python",
   "nbconvert_exporter": "python",
   "pygments_lexer": "ipython2",
   "version": "2.7.14"
  }
 },
 "nbformat": 4,
 "nbformat_minor": 2
}
